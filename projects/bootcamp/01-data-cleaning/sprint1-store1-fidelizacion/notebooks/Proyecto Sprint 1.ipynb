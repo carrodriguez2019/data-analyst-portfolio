{
 "cells": [
  {
   "cell_type": "markdown",
   "metadata": {
    "id": "UCjlyTyyJm9R"
   },
   "source": [
    "\n",
    "\n",
    "Como parte del equipo de análisis, lo primero que debes hacer es evaluar la calidad de una muestra de datos recopilados y prepararla para analizarla posteriormente. Después, en la segunda parte de este proyecto en el segundo sprint, desarrollarás más tus habilidades y harás tu primer análisis completo, respondiendo a las necesidades del cliente."
   ]
  },
  {
   "cell_type": "markdown",
   "metadata": {
    "id": "EMQlsEYlxGET"
   },
   "source": [
    "Estos son los datos que el cliente nos proporcionó. Tienen el formato de una lista de Python, con las siguientes columnas de datos:\n",
    "\n",
    "- **user_id:** Identificador único para cada usuario.\n",
    "- **user_name:** El nombre del usuario.\n",
    "- **user_age:** La edad del usuario.\n",
    "- **fav_categories:** Categorías favoritas de los artículos que compró el usuario, como 'ELECTRONICS', 'SPORT' y 'BOOKS' (ELECTRÓNICOS, DEPORTES y LIBROS), etc.\n",
    "- **total_spendings:** Una lista de números enteros que indican la cantidad total gastada en cada una de las categorías favoritas.\n"
   ]
  },
  {
   "cell_type": "code",
   "execution_count": 97,
   "metadata": {},
   "outputs": [
    {
     "name": "stdout",
     "output_type": "stream",
     "text": [
      "Datos cargados: 10 usuarios\n",
      "\n",
      " 1. ['32415', ' mike_reed ', 32.0, ['ELECTRONICS', 'SPORT', 'BOOKS'], [894, 213, 173]]\n",
      " 2. ['31980', 'kate morgan', 24.0, ['CLOTHES', 'BOOKS'], [439, 390]]\n",
      " 3. ['32156', ' john doe ', 37.0, ['ELECTRONICS', 'HOME', 'FOOD'], [459, 120, 99]]\n",
      " 4. ['32761', 'SAMANTHA SMITH', 29.0, ['CLOTHES', 'ELECTRONICS', 'BEAUTY'], [299, 679, 85]]\n",
      " 5. ['32984', 'David White', 41.0, ['BOOKS', 'HOME', 'SPORT'], [234, 329, 243]]\n",
      " 6. ['33001', 'emily brown', 26.0, ['BEAUTY', 'HOME', 'FOOD'], [213, 659, 79]]\n",
      " 7. ['33767', ' Maria Garcia', 33.0, ['CLOTHES', 'FOOD', 'BEAUTY'], [499, 189, 63]]\n",
      " 8. ['33912', 'JOSE MARTINEZ', 22.0, ['SPORT', 'ELECTRONICS', 'HOME'], [259, 549, 109]]\n",
      " 9. ['34009', 'lisa wilson ', 35.0, ['HOME', 'BOOKS', 'CLOTHES'], [329, 189, 329]]\n",
      "10. ['34278', 'James Lee', 28.0, ['BEAUTY', 'CLOTHES', 'ELECTRONICS'], [189, 299, 579]]\n"
     ]
    }
   ],
   "source": [
    "import sys\n",
    "import importlib\n",
    "\n",
    "# Añadir la carpeta \"data\" al path\n",
    "sys.path.append(\"../data\")\n",
    "\n",
    "# Importar y recargar el módulo\n",
    "import sample_data\n",
    "importlib.reload(sample_data)\n",
    "\n",
    "# Importar la lista\n",
    "from sample_data import users\n",
    "\n",
    "# Mostrar datos\n",
    "print(f\"Datos cargados: {len(users)} usuarios\\n\")\n",
    "for i, user in enumerate(users):\n",
    "    print(f\"{i+1:2d}. {user}\")"
   ]
  },
  {
   "cell_type": "markdown",
   "metadata": {
    "id": "QJa5xuF-Jm9T"
   },
   "source": [
    "# Paso 1\n",
    "\n",
    "Store 1 tiene como objetivo garantizar la coherencia en la recopilación de datos. Como parte de esta iniciativa, se debe evaluar la calidad de los datos recopilados sobre los usuarios y las usuarias. Te han pedido que revises los datos recopilados y propongas cambios. \n"
   ]
  },
  {
   "cell_type": "markdown",
   "metadata": {
    "id": "jBGXAwBkJm9V"
   },
   "source": [
    "De acuerdo a lo observado en la lista anidadas de users se realizan las siguientes observaciones y propuestas:\n",
    "\n",
    "1. ##### ID como entero o cadena.\n",
    "\n",
    "Depende del propósito de la variable y de cómo se desea usar. Para nuestro caso es más adecuado definirla como entero (int).\n",
    "\n",
    "2. ##### Formato del nombre.\n",
    "\n",
    "   - Algunos datos tienen espacios al principio y/o al final\n",
    "   - En lugar de espacio entre nombre y apellido tienen guion bajo\n",
    "   - Algunos nombres estan en mayuscula y otros en miniscula\n",
    "\n",
    "Es importante almacenar la información en un formato que facilite su manejo; si presenta todo lo anterior, puede  dificultar operaciones comunes como búsquedas, comparaciones o visualizaciones.\n",
    "\n",
    "3. ##### Edad como float.\n",
    "\n",
    "La edad por su naturaleza siempre es un número entero, ya que representa una cantidad discreta (años completos). Al almacenarla como un número entero en lugar de un flotante (float), no solo ahorramos memoria, sino que también simplificamos validaciones y operaciones. Además, usar un entero refuerza la semántica de los datos, lo que mejora la comprensión del código.\n",
    "   \n",
    "4. ##### Uso consistente de mayúsculas o minúsculas.\n",
    "\n",
    "Normalizar el formato de texto (todo en mayúsculas o todo en minúsculas) es una práctica común para facilitar operaciones como búsquedas, comparaciones o clasificaciones. Por ejemplo, al comparar dos cadenas, los formatos inconsistentes pueden llevar a resultados inesperados. Ya depende de la naturaleza de los datos si tiene sentido o no utilizar mayúsculas o minúsculas."
   ]
  },
  {
   "cell_type": "markdown",
   "metadata": {
    "id": "aZ40WbF5Jm9V"
   },
   "source": [
    "# Paso 2\n",
    "\n",
    "Vamos a implementar los cambios que identificamos. Primero, necesitamos corregir algunos problemas:\n",
    "\n",
    "1. La variable `user_name` tiene espacios innecesarios y un guion bajo como separador entre el nombre y el apellido; tu objetivo es eliminar los espacios y luego reemplazar el guion bajo con el espacio.\n",
    "2. Dividir el `user_name` (nombre de usuario o usuaria) actualizado en dos subcadenas para obtener una lista que contenga dos valores: la cadena para el nombre y la cadena para el apellido.\n",
    "3. La variable user_age tiene un tipo de datos incorrecto. Arreglemos este problema transformando el tipo de datos y mostrando el resultado final.\n"
   ]
  },
  {
   "cell_type": "code",
   "execution_count": 154,
   "metadata": {},
   "outputs": [
    {
     "name": "stdout",
     "output_type": "stream",
     "text": [
      "[32415, 'mike', 'reed', 32, ['electronics', 'sport', 'books'], [894, 213, 173]]\n",
      "[31980, 'kate', 'morgan', 24, ['clothes', 'books'], [439, 390]]\n",
      "[32156, 'john', 'doe', 37, ['electronics', 'home', 'food'], [459, 120, 99]]\n",
      "[32761, 'samantha', 'smith', 29, ['clothes', 'electronics', 'beauty'], [299, 679, 85]]\n",
      "[32984, 'david', 'white', 41, ['books', 'home', 'sport'], [234, 329, 243]]\n",
      "[33001, 'emily', 'brown', 26, ['beauty', 'home', 'food'], [213, 659, 79]]\n",
      "[33767, 'maria', 'garcia', 33, ['clothes', 'food', 'beauty'], [499, 189, 63]]\n",
      "[33912, 'jose', 'martinez', 22, ['sport', 'electronics', 'home'], [259, 549, 109]]\n",
      "[34009, 'lisa', 'wilson', 35, ['home', 'books', 'clothes'], [329, 189, 329]]\n",
      "[34278, 'james', 'lee', 28, ['beauty', 'clothes', 'electronics'], [189, 299, 579]]\n"
     ]
    }
   ],
   "source": [
    "# Añadir la carpeta \"data\" al path\n",
    "sys.path.append(\"../src\")\n",
    "\n",
    "# Importar el modulo\n",
    "import data_cleaning\n",
    "importlib.reload(data_cleaning)\n",
    "\n",
    "# Importar la lista\n",
    "from data_cleaning import limpiar_usuarios as lp\n",
    "\n",
    "# Limpiar los datos\n",
    "usuarios_limpios = lp(users)\n",
    "\n",
    "for user in (usuarios_limpios):\n",
    "    print(f\"{user}\")\n"
   ]
  },
  {
   "cell_type": "markdown",
   "metadata": {},
   "source": [
    "## Paso 3\n",
    "Como sabemos, los datos no siempre son perfectos. Debemos considerar escenarios en los que el valor de user_age no se pueda convertir en un número entero. Para evitar que nuestro sistema se bloquee, debemos tomar medidas con anticipación.\n",
    "\n",
    "Escribe un código que intente convertir la variable user_age en un número entero y asigna el valor transformado a user_age_int. Si el intento falla, mostramos un mensaje pidiendo al usuario o la usuaria que proporcione su edad como un valor numérico con el mensaje: Please provide your age as a numerical value. (Proporcione su edad como un valor numérico.)"
   ]
  },
  {
   "cell_type": "code",
   "execution_count": 158,
   "metadata": {},
   "outputs": [
    {
     "name": "stdout",
     "output_type": "stream",
     "text": [
      "Please provide your age as a numerical value\n"
     ]
    }
   ],
   "source": [
    "# Importar el modulo\n",
    "import data_cleaning\n",
    "importlib.reload(data_cleaning)\n",
    "\n",
    "# Importar la lista\n",
    "from data_cleaning import test_try as tt\n",
    "\n",
    "# Crear una copia de users\n",
    "data_copia = usuarios_limpios.copy()\n",
    "new_data = [34279, 'Pepita', 'Perez', 'treinta y dos', ['beauty', 'clothes', 'electronics'], [189, 299, 579]]\n",
    "data_copia.append(new_data)\n",
    "\n",
    "# Probar la funcion try/except cuando la informacion de la edad no sea valida\n",
    "tt(data_copia)"
   ]
  },
  {
   "cell_type": "markdown",
   "metadata": {
    "id": "geo-WB0KW3Ji"
   },
   "source": [
    "# Paso 4\n",
    "\n",
    "El equipo de dirección de Store 1 te pidió ayudarles a organizar los datos de sus clientes para analizarlos y gestionarlos mejor.\n",
    "\n",
    "Tu tarea es ordenar esta lista por ID de usuario de forma ascendente para que sea más fácil acceder a ella y analizarla.\n"
   ]
  },
  {
   "cell_type": "code",
   "execution_count": 157,
   "metadata": {
    "colab": {
     "base_uri": "https://localhost:8080/"
    },
    "id": "Re_QlnnLW3Jo",
    "outputId": "8b977bc7-e315-4a27-97ad-645570ed60bc"
   },
   "outputs": [
    {
     "name": "stdout",
     "output_type": "stream",
     "text": [
      "[31980, 'kate', 'morgan', 24, ['clothes', 'books'], [439, 390]]\n",
      "[32156, 'john', 'doe', 37, ['electronics', 'home', 'food'], [459, 120, 99]]\n",
      "[32415, 'mike', 'reed', 32, ['electronics', 'sport', 'books'], [894, 213, 173]]\n",
      "[32761, 'samantha', 'smith', 29, ['clothes', 'electronics', 'beauty'], [299, 679, 85]]\n",
      "[32984, 'david', 'white', 41, ['books', 'home', 'sport'], [234, 329, 243]]\n",
      "[33001, 'emily', 'brown', 26, ['beauty', 'home', 'food'], [213, 659, 79]]\n",
      "[33767, 'maria', 'garcia', 33, ['clothes', 'food', 'beauty'], [499, 189, 63]]\n",
      "[33912, 'jose', 'martinez', 22, ['sport', 'electronics', 'home'], [259, 549, 109]]\n",
      "[34009, 'lisa', 'wilson', 35, ['home', 'books', 'clothes'], [329, 189, 329]]\n",
      "[34278, 'james', 'lee', 28, ['beauty', 'clothes', 'electronics'], [189, 299, 579]]\n"
     ]
    }
   ],
   "source": [
    "# Ordernar la lista de manera ascendente por Id de usuario\n",
    "usuarios_limpios.sort()\n",
    "\n",
    "for user in (usuarios_limpios):\n",
    "    print(f\"{user}\")\n"
   ]
  },
  {
   "cell_type": "markdown",
   "metadata": {
    "id": "VRqEQFJiJm9X"
   },
   "source": [
    "# Paso 5\n",
    "\n",
    "Tenemos la información de los hábitos de consumo de nuestros usuarios, incluyendo la cantidad gastada en cada una de sus categorías favoritas. La dirección está interesada en conocer la cantidad total gastada por el usuario.\n",
    "\n",
    "\n",
    "Calculemos este valor y despleguémoslo.\n"
   ]
  },
  {
   "cell_type": "code",
   "execution_count": 159,
   "metadata": {
    "colab": {
     "base_uri": "https://localhost:8080/"
    },
    "id": "sjNmuLsQJm9X",
    "outputId": "308483d6-8d3c-4763-9014-7e702307424f"
   },
   "outputs": [
    {
     "name": "stdout",
     "output_type": "stream",
     "text": [
      "[31980, 'kate', 'morgan', 24, ['clothes', 'books'], [439, 390], 829]\n",
      "[32156, 'john', 'doe', 37, ['electronics', 'home', 'food'], [459, 120, 99], 678]\n",
      "[32415, 'mike', 'reed', 32, ['electronics', 'sport', 'books'], [894, 213, 173], 1280]\n",
      "[32761, 'samantha', 'smith', 29, ['clothes', 'electronics', 'beauty'], [299, 679, 85], 1063]\n",
      "[32984, 'david', 'white', 41, ['books', 'home', 'sport'], [234, 329, 243], 806]\n",
      "[33001, 'emily', 'brown', 26, ['beauty', 'home', 'food'], [213, 659, 79], 951]\n",
      "[33767, 'maria', 'garcia', 33, ['clothes', 'food', 'beauty'], [499, 189, 63], 751]\n",
      "[33912, 'jose', 'martinez', 22, ['sport', 'electronics', 'home'], [259, 549, 109], 917]\n",
      "[34009, 'lisa', 'wilson', 35, ['home', 'books', 'clothes'], [329, 189, 329], 847]\n",
      "[34278, 'james', 'lee', 28, ['beauty', 'clothes', 'electronics'], [189, 299, 579], 1067]\n"
     ]
    }
   ],
   "source": [
    "# Importar el modulo\n",
    "import data_cleaning\n",
    "importlib.reload(data_cleaning)\n",
    "\n",
    "# Importar la lista\n",
    "from data_cleaning import calcular_gasto_total as cgt\n",
    "\n",
    "# Funcion para calcular gastos totales por usuario\n",
    "usuarios_limpios = cgt(usuarios_limpios)\n",
    "for user in (usuarios_limpios):\n",
    "    print(f\"{user}\")\n"
   ]
  },
  {
   "cell_type": "markdown",
   "metadata": {
    "id": "zP0nVV5FJm9Y"
   },
   "source": [
    "# Paso 8\n",
    "\n",
    "La dirección de la empresa nos pidió pensar en una manera de resumir toda la información de un usuario. Tu objetivo es crear una cadena formateada que utilice información de las variables `user_id`, `user_name` y `user_age`.\n",
    "\n",
    "Esta es la cadena final que queremos crear: `User 32415 is mike who is 32 years old.` (El usuario 32415 es Mike, quien tiene 32 años).\n"
   ]
  },
  {
   "cell_type": "code",
   "execution_count": 162,
   "metadata": {
    "colab": {
     "base_uri": "https://localhost:8080/"
    },
    "id": "8mlIJr4OJm9Y",
    "outputId": "909d84d1-5723-4676-fb2d-92f8a8c15b7b"
   },
   "outputs": [
    {
     "name": "stdout",
     "output_type": "stream",
     "text": [
      "User 31980 is kate who is 24 years old.\n",
      "User 32156 is john who is 37 years old.\n",
      "User 32415 is mike who is 32 years old.\n",
      "User 32761 is samantha who is 29 years old.\n",
      "User 32984 is david who is 41 years old.\n",
      "User 33001 is emily who is 26 years old.\n",
      "User 33767 is maria who is 33 years old.\n",
      "User 33912 is jose who is 22 years old.\n",
      "User 34009 is lisa who is 35 years old.\n",
      "User 34278 is james who is 28 years old.\n"
     ]
    }
   ],
   "source": [
    "#Informacion del usurio\n",
    "for user in (usuarios_limpios):\n",
    "    user_id,nombe,apellido,edad,categorias,gastos,gasto_total = user\n",
    "    user_info = f\"User {user_id} is {nombe} who is {edad} years old.\"\n",
    "    print(user_info)\n"
   ]
  },
  {
   "cell_type": "markdown",
   "metadata": {
    "id": "xOj8_G0ZO9mM"
   },
   "source": [
    "# Paso 9\n",
    "\n",
    "La dirección también quiere una forma fácil de conocer la cantidad de clientes con cuyos datos contamos. Tu objetivo es crear una cadena formateada que muestre la cantidad de datos de clientes registrados.\n",
    "\n",
    "Esta es la cadena final que queremos crear: `Hemos registrado datos de X clientes`.\n"
   ]
  },
  {
   "cell_type": "code",
   "execution_count": 163,
   "metadata": {
    "colab": {
     "base_uri": "https://localhost:8080/"
    },
    "id": "eGvjS1rkO9mS",
    "outputId": "ce65761f-07d9-463e-e645-4a69c4c9cd9f"
   },
   "outputs": [
    {
     "name": "stdout",
     "output_type": "stream",
     "text": [
      "Hemos registrado datos de 10 clientes.\n"
     ]
    }
   ],
   "source": [
    "user_info = (\"Hemos registrado datos de {} clientes.\".format(len(usuarios_limpios)))\n",
    "print(user_info)"
   ]
  }
 ],
 "metadata": {
  "colab": {
   "provenance": []
  },
  "kernelspec": {
   "display_name": "Python [conda env:base] *",
   "language": "python",
   "name": "conda-base-py"
  },
  "language_info": {
   "codemirror_mode": {
    "name": "ipython",
    "version": 3
   },
   "file_extension": ".py",
   "mimetype": "text/x-python",
   "name": "python",
   "nbconvert_exporter": "python",
   "pygments_lexer": "ipython3",
   "version": "3.12.7"
  }
 },
 "nbformat": 4,
 "nbformat_minor": 4
}
